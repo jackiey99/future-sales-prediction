{
 "cells": [
  {
   "cell_type": "code",
   "execution_count": 1,
   "metadata": {},
   "outputs": [],
   "source": [
    "import pandas as pd\n",
    "import load_datasets\n",
    "import os\n",
    "from sklearn.linear_model import HuberRegressor, LinearRegression, SGDRegressor\n",
    "from sklearn import preprocessing\n",
    "from sklearn.metrics import mean_squared_error\n",
    "from math import sqrt\n",
    "import numpy as np"
   ]
  },
  {
   "cell_type": "markdown",
   "metadata": {},
   "source": [
    "# Load Data"
   ]
  },
  {
   "cell_type": "code",
   "execution_count": 2,
   "metadata": {},
   "outputs": [],
   "source": [
    "def fill_missing_add_indicator(df, cols):\n",
    "    for c in cols:\n",
    "        indicator_name = c + '_is_none'\n",
    "        df[indicator_name] = df[c].isna().astype(np.int8)\n",
    "    df = df.fillna(-1)\n",
    "    return df\n",
    "    "
   ]
  },
  {
   "cell_type": "code",
   "execution_count": 3,
   "metadata": {},
   "outputs": [],
   "source": [
    "training_name = 'linear'\n",
    "\n",
    "# cat_feature_names = ['shop_category', 'type_code', 'subtype_code', 'shop_city']\n",
    "cat_feature_names = None\n",
    "\n",
    "cols_to_drop = ['shop_id', 'item_id', 'item_category_id' ]\n",
    "X_train, y_train = load_datasets.train(one_hot=False, cat_feature_names=cat_feature_names)\n",
    "X_val, y_val = load_datasets.val(one_hot=False, cat_feature_names=cat_feature_names)\n",
    "X_test = load_datasets.test(one_hot=False, cat_feature_names=cat_feature_names)\n",
    "\n",
    "X_train = X_train.drop(cols_to_drop, axis=1)\n",
    "X_val = X_val.drop(cols_to_drop, axis=1)\n",
    "X_test = X_test.drop(cols_to_drop, axis=1)\n",
    "\n",
    "missing_cols = ['item_cnt_month_lag_1',\n",
    " 'item_cnt_month_lag_2',\n",
    " 'item_cnt_month_lag_3',\n",
    " 'date_avg_item_cnt_lag_1',\n",
    " 'date_avg_item_cnt_lag_2',\n",
    " 'date_avg_item_cnt_lag_3',\n",
    " 'date_item_avg_item_cnt_lag_1',\n",
    " 'date_item_avg_item_cnt_lag_2',\n",
    " 'date_item_avg_item_cnt_lag_3',\n",
    " 'date_shop_avg_item_cnt_lag_1',\n",
    " 'date_shop_avg_item_cnt_lag_2',\n",
    " 'date_shop_avg_item_cnt_lag_3',\n",
    " 'date_city_avg_item_cnt_lag_1',\n",
    " 'date_city_avg_item_cnt_lag_2',\n",
    " 'date_city_avg_item_cnt_lag_3',\n",
    " 'date_item_city_avg_item_cnt_lag_1',\n",
    " 'date_item_city_avg_item_cnt_lag_2',\n",
    " 'date_item_city_avg_item_cnt_lag_3',\n",
    " 'delta_revenue_lag_1',\n",
    " 'item_cnt_month_lag_1_adv',\n",
    " 'item_cnt_month_lag_2_adv',\n",
    " 'item_cnt_month_lag_3_adv']\n",
    "\n",
    "X_train = fill_missing_add_indicator(X_train, missing_cols)\n",
    "X_val = fill_missing_add_indicator(X_val, missing_cols)\n",
    "X_test = fill_missing_add_indicator(X_test, missing_cols)"
   ]
  },
  {
   "cell_type": "code",
   "execution_count": 4,
   "metadata": {},
   "outputs": [],
   "source": [
    "scaler = preprocessing.StandardScaler().fit(X_train)\n",
    "X_train = scaler.transform(X_train)\n",
    "X_val = scaler.transform(X_val)\n",
    "X_test = scaler.transform(X_test)"
   ]
  },
  {
   "cell_type": "markdown",
   "metadata": {},
   "source": [
    "# Train the Model"
   ]
  },
  {
   "cell_type": "code",
   "execution_count": 5,
   "metadata": {},
   "outputs": [
    {
     "name": "stderr",
     "output_type": "stream",
     "text": [
      "/opt/conda/lib/python3.7/site-packages/sklearn/linear_model/_huber.py:296: ConvergenceWarning: lbfgs failed to converge (status=1):\n",
      "STOP: TOTAL NO. of ITERATIONS REACHED LIMIT.\n",
      "\n",
      "Increase the number of iterations (max_iter) or scale the data as shown in:\n",
      "    https://scikit-learn.org/stable/modules/preprocessing.html\n",
      "  self.n_iter_ = _check_optimize_result(\"lbfgs\", opt_res, self.max_iter)\n"
     ]
    }
   ],
   "source": [
    "huber = HuberRegressor(max_iter=200).fit(X_train, y_train)"
   ]
  },
  {
   "cell_type": "code",
   "execution_count": 6,
   "metadata": {},
   "outputs": [],
   "source": [
    "y_pred_train = huber.predict(X_train).clip(0, 20)\n",
    "y_pred_val = huber.predict(X_val).clip(0, 20)\n",
    "\n"
   ]
  },
  {
   "cell_type": "code",
   "execution_count": 7,
   "metadata": {},
   "outputs": [
    {
     "name": "stdout",
     "output_type": "stream",
     "text": [
      "RMSE for train: 1.0510215362879711, RMSE for valid: 1.0301744921963345\n"
     ]
    }
   ],
   "source": [
    "\n",
    "rmse_train = sqrt(mean_squared_error(y_train, y_pred_train))\n",
    "rmse_val= sqrt(mean_squared_error(y_val, y_pred_val))\n",
    "\n",
    "print(\"RMSE for train: {}, RMSE for valid: {}\".format(rmse_train, rmse_val))"
   ]
  },
  {
   "cell_type": "markdown",
   "metadata": {},
   "source": [
    "# Make Predictions"
   ]
  },
  {
   "cell_type": "code",
   "execution_count": 9,
   "metadata": {},
   "outputs": [],
   "source": [
    "DATA_DIR = \"data\"\n",
    "OUTPUT_DIR = 'output'\n",
    "\n",
    "\n",
    "pred_test = huber.predict(X_test)\n",
    "\n",
    "\n",
    "pred = pd.read_csv(os.path.join(DATA_DIR, 'sample_submission.csv'))\n",
    "pred['item_cnt_month'] = pred_test\n",
    "pred['item_cnt_month'] = pred['item_cnt_month'].clip(lower=0, upper=20)\n",
    "pred.to_csv(os.path.join(OUTPUT_DIR, training_name+'.csv'), index=False)"
   ]
  },
  {
   "cell_type": "markdown",
   "metadata": {},
   "source": [
    "Your public LB scores are: 1.089920"
   ]
  },
  {
   "cell_type": "code",
   "execution_count": 11,
   "metadata": {},
   "outputs": [],
   "source": [
    "# predict for val, and test for emsembling\n",
    "pred_val = huber.predict(X_val)\n",
    "pd.DataFrame({training_name + 'val': pred_val}).to_hdf(os.path.join(OUTPUT_DIR, training_name+'.h5'), key='val', mode='a')\n",
    "pd.DataFrame({training_name + 'test': pred_test}).to_hdf(os.path.join(OUTPUT_DIR, training_name+'.h5'), key='test', mode='a')"
   ]
  },
  {
   "cell_type": "code",
   "execution_count": 13,
   "metadata": {},
   "outputs": [
    {
     "data": {
      "text/plain": [
       "['output/huber_model.joblib']"
      ]
     },
     "execution_count": 13,
     "metadata": {},
     "output_type": "execute_result"
    }
   ],
   "source": [
    "from joblib import dump, load\n",
    "dump(huber, os.path.join(OUTPUT_DIR, 'huber_model.joblib')) "
   ]
  },
  {
   "cell_type": "code",
   "execution_count": null,
   "metadata": {},
   "outputs": [],
   "source": []
  }
 ],
 "metadata": {
  "kernelspec": {
   "display_name": "Python 3",
   "language": "python",
   "name": "python3"
  },
  "language_info": {
   "codemirror_mode": {
    "name": "ipython",
    "version": 3
   },
   "file_extension": ".py",
   "mimetype": "text/x-python",
   "name": "python",
   "nbconvert_exporter": "python",
   "pygments_lexer": "ipython3",
   "version": "3.7.6"
  }
 },
 "nbformat": 4,
 "nbformat_minor": 4
}
