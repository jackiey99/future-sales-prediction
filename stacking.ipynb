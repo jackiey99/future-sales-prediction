{
 "cells": [
  {
   "cell_type": "code",
   "execution_count": 1,
   "metadata": {},
   "outputs": [],
   "source": [
    "import pandas as pd\n",
    "import load_datasets\n",
    "import os\n",
    "from sklearn.linear_model import LinearRegression\n",
    "from sklearn.metrics import mean_squared_error\n",
    "from math import sqrt\n",
    "import numpy as np"
   ]
  },
  {
   "cell_type": "markdown",
   "metadata": {},
   "source": [
    "# Load the meta features"
   ]
  },
  {
   "cell_type": "code",
   "execution_count": 6,
   "metadata": {},
   "outputs": [],
   "source": [
    "OUTPUT_DIR = 'output'\n",
    "training_names = ['lightgbm', 'xgboost', 'rf', 'linear']\n",
    "X_train = []\n",
    "X_test = []\n",
    "\n",
    "for t in training_names:\n",
    "    HDF = os.path.join(OUTPUT_DIR, t + '.h5')\n",
    "    X_train.append(pd.read_hdf(HDF, key='val'))\n",
    "    X_test.append(pd.read_hdf(HDF, key='test'))"
   ]
  },
  {
   "cell_type": "code",
   "execution_count": 7,
   "metadata": {},
   "outputs": [],
   "source": [
    "df_X_train = pd.concat(X_train, axis=1)\n",
    "df_X_test = pd.concat(X_test, axis=1)"
   ]
  },
  {
   "cell_type": "code",
   "execution_count": 8,
   "metadata": {},
   "outputs": [
    {
     "data": {
      "text/html": [
       "<div>\n",
       "<style scoped>\n",
       "    .dataframe tbody tr th:only-of-type {\n",
       "        vertical-align: middle;\n",
       "    }\n",
       "\n",
       "    .dataframe tbody tr th {\n",
       "        vertical-align: top;\n",
       "    }\n",
       "\n",
       "    .dataframe thead th {\n",
       "        text-align: right;\n",
       "    }\n",
       "</style>\n",
       "<table border=\"1\" class=\"dataframe\">\n",
       "  <thead>\n",
       "    <tr style=\"text-align: right;\">\n",
       "      <th></th>\n",
       "      <th>lightgbmval</th>\n",
       "      <th>xgboostval</th>\n",
       "      <th>rfval</th>\n",
       "      <th>linearval</th>\n",
       "    </tr>\n",
       "  </thead>\n",
       "  <tbody>\n",
       "    <tr>\n",
       "      <th>0</th>\n",
       "      <td>0.020091</td>\n",
       "      <td>0.020430</td>\n",
       "      <td>0.032904</td>\n",
       "      <td>-0.001108</td>\n",
       "    </tr>\n",
       "    <tr>\n",
       "      <th>1</th>\n",
       "      <td>0.055717</td>\n",
       "      <td>0.029540</td>\n",
       "      <td>0.070650</td>\n",
       "      <td>-0.000976</td>\n",
       "    </tr>\n",
       "    <tr>\n",
       "      <th>2</th>\n",
       "      <td>0.233411</td>\n",
       "      <td>0.281526</td>\n",
       "      <td>0.267985</td>\n",
       "      <td>0.052926</td>\n",
       "    </tr>\n",
       "    <tr>\n",
       "      <th>3</th>\n",
       "      <td>0.246624</td>\n",
       "      <td>0.262361</td>\n",
       "      <td>0.283776</td>\n",
       "      <td>0.218397</td>\n",
       "    </tr>\n",
       "    <tr>\n",
       "      <th>4</th>\n",
       "      <td>0.017394</td>\n",
       "      <td>0.002105</td>\n",
       "      <td>0.032904</td>\n",
       "      <td>0.001057</td>\n",
       "    </tr>\n",
       "    <tr>\n",
       "      <th>...</th>\n",
       "      <td>...</td>\n",
       "      <td>...</td>\n",
       "      <td>...</td>\n",
       "      <td>...</td>\n",
       "    </tr>\n",
       "    <tr>\n",
       "      <th>238167</th>\n",
       "      <td>0.131691</td>\n",
       "      <td>0.148181</td>\n",
       "      <td>0.130867</td>\n",
       "      <td>0.049634</td>\n",
       "    </tr>\n",
       "    <tr>\n",
       "      <th>238168</th>\n",
       "      <td>0.144753</td>\n",
       "      <td>0.157528</td>\n",
       "      <td>0.150896</td>\n",
       "      <td>0.000904</td>\n",
       "    </tr>\n",
       "    <tr>\n",
       "      <th>238169</th>\n",
       "      <td>0.142401</td>\n",
       "      <td>0.163682</td>\n",
       "      <td>0.145907</td>\n",
       "      <td>0.013563</td>\n",
       "    </tr>\n",
       "    <tr>\n",
       "      <th>238170</th>\n",
       "      <td>0.022507</td>\n",
       "      <td>0.003364</td>\n",
       "      <td>0.066953</td>\n",
       "      <td>-0.000014</td>\n",
       "    </tr>\n",
       "    <tr>\n",
       "      <th>238171</th>\n",
       "      <td>0.119466</td>\n",
       "      <td>0.124125</td>\n",
       "      <td>0.150896</td>\n",
       "      <td>0.007204</td>\n",
       "    </tr>\n",
       "  </tbody>\n",
       "</table>\n",
       "<p>238172 rows × 4 columns</p>\n",
       "</div>"
      ],
      "text/plain": [
       "        lightgbmval  xgboostval     rfval  linearval\n",
       "0          0.020091    0.020430  0.032904  -0.001108\n",
       "1          0.055717    0.029540  0.070650  -0.000976\n",
       "2          0.233411    0.281526  0.267985   0.052926\n",
       "3          0.246624    0.262361  0.283776   0.218397\n",
       "4          0.017394    0.002105  0.032904   0.001057\n",
       "...             ...         ...       ...        ...\n",
       "238167     0.131691    0.148181  0.130867   0.049634\n",
       "238168     0.144753    0.157528  0.150896   0.000904\n",
       "238169     0.142401    0.163682  0.145907   0.013563\n",
       "238170     0.022507    0.003364  0.066953  -0.000014\n",
       "238171     0.119466    0.124125  0.150896   0.007204\n",
       "\n",
       "[238172 rows x 4 columns]"
      ]
     },
     "execution_count": 8,
     "metadata": {},
     "output_type": "execute_result"
    }
   ],
   "source": [
    "df_X_train"
   ]
  },
  {
   "cell_type": "code",
   "execution_count": 9,
   "metadata": {},
   "outputs": [],
   "source": [
    "_, y_val = load_datasets.val()"
   ]
  },
  {
   "cell_type": "markdown",
   "metadata": {},
   "source": [
    "# Train the meta Model"
   ]
  },
  {
   "cell_type": "code",
   "execution_count": 10,
   "metadata": {},
   "outputs": [
    {
     "data": {
      "text/plain": [
       "LinearRegression()"
      ]
     },
     "execution_count": 10,
     "metadata": {},
     "output_type": "execute_result"
    }
   ],
   "source": [
    "meta_model = LinearRegression()\n",
    "meta_model.fit(df_X_train, y_val)"
   ]
  },
  {
   "cell_type": "code",
   "execution_count": 18,
   "metadata": {},
   "outputs": [
    {
     "data": {
      "text/plain": [
       "array([ 0.8081588 ,  0.41086136, -0.32446391,  0.03528179])"
      ]
     },
     "execution_count": 18,
     "metadata": {},
     "output_type": "execute_result"
    }
   ],
   "source": [
    "meta_model.coef_"
   ]
  },
  {
   "cell_type": "markdown",
   "metadata": {},
   "source": [
    "# Make Predictions"
   ]
  },
  {
   "cell_type": "code",
   "execution_count": 13,
   "metadata": {},
   "outputs": [],
   "source": [
    "DATA_DIR = 'data'\n",
    "\n",
    "pred_test = meta_model.predict(df_X_test)\n",
    "\n",
    "pred = pd.read_csv(os.path.join(DATA_DIR, 'sample_submission.csv'))\n",
    "pred['item_cnt_month'] = pred_test\n",
    "pred['item_cnt_month'] = pred['item_cnt_month'].clip(lower=0, upper=20)\n",
    "pred.to_csv(os.path.join(OUTPUT_DIR, 'stacking.csv'), index=False)"
   ]
  },
  {
   "cell_type": "code",
   "execution_count": 19,
   "metadata": {},
   "outputs": [
    {
     "data": {
      "text/html": [
       "<div>\n",
       "<style scoped>\n",
       "    .dataframe tbody tr th:only-of-type {\n",
       "        vertical-align: middle;\n",
       "    }\n",
       "\n",
       "    .dataframe tbody tr th {\n",
       "        vertical-align: top;\n",
       "    }\n",
       "\n",
       "    .dataframe thead th {\n",
       "        text-align: right;\n",
       "    }\n",
       "</style>\n",
       "<table border=\"1\" class=\"dataframe\">\n",
       "  <thead>\n",
       "    <tr style=\"text-align: right;\">\n",
       "      <th></th>\n",
       "      <th>ID</th>\n",
       "      <th>item_cnt_month</th>\n",
       "    </tr>\n",
       "  </thead>\n",
       "  <tbody>\n",
       "    <tr>\n",
       "      <th>0</th>\n",
       "      <td>0</td>\n",
       "      <td>0.323341</td>\n",
       "    </tr>\n",
       "    <tr>\n",
       "      <th>1</th>\n",
       "      <td>1</td>\n",
       "      <td>0.223566</td>\n",
       "    </tr>\n",
       "    <tr>\n",
       "      <th>2</th>\n",
       "      <td>2</td>\n",
       "      <td>0.858780</td>\n",
       "    </tr>\n",
       "    <tr>\n",
       "      <th>3</th>\n",
       "      <td>3</td>\n",
       "      <td>0.419711</td>\n",
       "    </tr>\n",
       "    <tr>\n",
       "      <th>4</th>\n",
       "      <td>4</td>\n",
       "      <td>4.621639</td>\n",
       "    </tr>\n",
       "  </tbody>\n",
       "</table>\n",
       "</div>"
      ],
      "text/plain": [
       "   ID  item_cnt_month\n",
       "0   0        0.323341\n",
       "1   1        0.223566\n",
       "2   2        0.858780\n",
       "3   3        0.419711\n",
       "4   4        4.621639"
      ]
     },
     "execution_count": 19,
     "metadata": {},
     "output_type": "execute_result"
    }
   ],
   "source": [
    "pred.head()"
   ]
  },
  {
   "cell_type": "markdown",
   "metadata": {},
   "source": [
    "Your public LB scores are: 0.879874"
   ]
  },
  {
   "cell_type": "markdown",
   "metadata": {},
   "source": [
    "# Post-processing"
   ]
  },
  {
   "cell_type": "code",
   "execution_count": 22,
   "metadata": {},
   "outputs": [],
   "source": [
    "items = pd.read_csv(os.path.join(DATA_DIR, \"items.csv\"))\n",
    "raw_test = pd.read_csv(os.path.join(DATA_DIR, \"test.csv\"))\n",
    "def fix_fallout4(s):\n",
    "    fallout4_items = items[items.item_name.str.contains('Fallout 4')].item_id.unique()\n",
    "    fallout4_digital_items = items[(items.item_name.str.contains('Fallout 4')) & (items.item_category_id==31)].item_id.unique()\n",
    "    fallout4_non_digital_items = items[(items.item_name.str.contains('Fallout 4')) & (items.item_category_id!=31)].item_id.unique()\n",
    "    # print(fallout4_items, fallout4_digital_items)\n",
    "    \n",
    "    s.loc[raw_test[raw_test.item_id.isin(fallout4_items)]['ID']] = 20\n",
    "    s.loc[raw_test[(raw_test.item_id.isin(fallout4_digital_items)) & (raw_test.shop_id!=55)]['ID']] = 0\n",
    "    s.loc[raw_test[(raw_test.item_id.isin(fallout4_non_digital_items)) & (raw_test.shop_id==55)]['ID']] = 0\n",
    "    return s\n",
    "\n",
    "def fix_digital(s):\n",
    "    cond_digital_items = (\n",
    "        (items.item_name.str.contains(\"Цифровая версия\")) \n",
    "        | (items.item_name.str.contains(r'\\[Цифровая'))\n",
    "        | (items.item_category_id.isin([31, 44, 54, 76, 78]))\n",
    "    )\n",
    "    cond_mix_items = (cond_digital_items) & (\n",
    "        (items.item_name.str.contains(\"ИгроМир 2015\"))\n",
    "        | (items.item_name.str.contains(\"Комплект предзаказа\"))\n",
    "    )\n",
    "    digital_items = items[cond_digital_items]\n",
    "    non_digital_items = items[~cond_digital_items]\n",
    "    mix_items = items[cond_mix_items]\n",
    "\n",
    "    # internet shop sells only digital items\n",
    "    sel_cond = (raw_test.shop_id==55) & (raw_test.item_id.isin(non_digital_items.item_id))\n",
    "    # print((s.loc[raw_test[sel_cond]['ID']] ** 2).sum())\n",
    "    s.loc[raw_test[sel_cond]['ID']] = 0\n",
    "    # non-internet shops sell only non-digital or mixed items\n",
    "    sel_cond = (raw_test.shop_id!=55) & (raw_test.item_id.isin(digital_items.item_id)) & ~(raw_test.item_id.isin(mix_items))\n",
    "    # print((s.loc[raw_test[sel_cond]['ID']] ** 2).sum())\n",
    "    s.loc[raw_test[sel_cond]['ID']] = 0    \n",
    "    return s\n",
    "\n",
    "s_final = pred.set_index(\"ID\")[\"item_cnt_month\"]\n",
    "s_final = fix_fallout4(s_final)\n",
    "s_final = fix_digital(s_final)\n",
    "\n",
    "fn = os.path.join(OUTPUT_DIR, 'submission-final-2.csv')\n",
    "s_final.to_csv(fn, index=True, index_label='ID', header=True)"
   ]
  },
  {
   "cell_type": "code",
   "execution_count": 23,
   "metadata": {},
   "outputs": [
    {
     "data": {
      "text/plain": [
       "ID\n",
       "0         0.323341\n",
       "1         0.223566\n",
       "2         0.858780\n",
       "3         0.419711\n",
       "4         4.621639\n",
       "            ...   \n",
       "214195    0.142718\n",
       "214196    0.037261\n",
       "214197    0.043539\n",
       "214198    0.026807\n",
       "214199    0.053649\n",
       "Name: item_cnt_month, Length: 214200, dtype: float64"
      ]
     },
     "execution_count": 23,
     "metadata": {},
     "output_type": "execute_result"
    }
   ],
   "source": [
    "s_final"
   ]
  },
  {
   "cell_type": "markdown",
   "metadata": {},
   "source": [
    "Your public LB scores are: 0.828486"
   ]
  },
  {
   "cell_type": "code",
   "execution_count": null,
   "metadata": {},
   "outputs": [],
   "source": []
  }
 ],
 "metadata": {
  "kernelspec": {
   "display_name": "Python 3",
   "language": "python",
   "name": "python3"
  },
  "language_info": {
   "codemirror_mode": {
    "name": "ipython",
    "version": 3
   },
   "file_extension": ".py",
   "mimetype": "text/x-python",
   "name": "python",
   "nbconvert_exporter": "python",
   "pygments_lexer": "ipython3",
   "version": "3.7.6"
  }
 },
 "nbformat": 4,
 "nbformat_minor": 4
}
