{
 "cells": [
  {
   "cell_type": "code",
   "execution_count": 2,
   "metadata": {},
   "outputs": [],
   "source": [
    "import pandas as pd\n",
    "import load_datasets\n",
    "import os\n",
    "import time\n",
    "import xgboost as xgb"
   ]
  },
  {
   "cell_type": "markdown",
   "metadata": {},
   "source": [
    "# Load data"
   ]
  },
  {
   "cell_type": "code",
   "execution_count": 3,
   "metadata": {},
   "outputs": [],
   "source": [
    "training_name = 'rf'\n",
    "X_train, y_train = load_datasets.train(max_date_block_num=32)\n",
    "X_val, y_val = load_datasets.val()\n",
    "X_test = load_datasets.test()\n",
    "\n",
    "dtrain = xgb.DMatrix(X_train, label=y_train)\n",
    "dval = xgb.DMatrix(X_val, label=y_val)\n",
    "dtest = xgb.DMatrix(X_test)"
   ]
  },
  {
   "cell_type": "code",
   "execution_count": 4,
   "metadata": {},
   "outputs": [],
   "source": [
    "del X_train, y_train, X_val, y_val, X_test"
   ]
  },
  {
   "cell_type": "markdown",
   "metadata": {},
   "source": [
    "# Model Training"
   ]
  },
  {
   "cell_type": "code",
   "execution_count": null,
   "metadata": {},
   "outputs": [
    {
     "name": "stdout",
     "output_type": "stream",
     "text": [
      "[05:05:43] WARNING: ../src/gbm/gbtree.cc:139: Tree method is automatically selected to be 'approx' for faster speed. To use old behavior (exact greedy algorithm on single machine), set tree_method to 'exact'.\n"
     ]
    }
   ],
   "source": [
    "ts = time.time()\n",
    "params = {\n",
    "    'max_depth': 10,\n",
    "    'colsample_bynode': 0.8, \n",
    "    'subsample': 0.8, \n",
    "    'learning_rate': 1,\n",
    "    'num_parallel_tree': 500,\n",
    "    'seed': 42,\n",
    "    'objective':'reg:squarederror',\n",
    "    'eval_metric': 'rmse',\n",
    "    'nthread': 8\n",
    "}\n",
    "\n",
    "evallist = [(dtrain, 'train'), (dval, 'eval')]\n",
    "num_boost_round = 1\n",
    "model = xgb.train(params, dtrain, num_boost_round, evallist, early_stopping_rounds=30, verbose_eval=1)\n",
    "\n",
    "time.time() - ts"
   ]
  },
  {
   "cell_type": "markdown",
   "metadata": {},
   "source": [
    "# Make Predictions"
   ]
  },
  {
   "cell_type": "code",
   "execution_count": null,
   "metadata": {},
   "outputs": [],
   "source": [
    "DATA_DIR = \"data\"\n",
    "OUTPUT_DIR = 'output'\n",
    "\n",
    "\n",
    "pred_test = model.predict(dtest)\n",
    "\n",
    "\n",
    "pred = pd.read_csv(os.path.join(DATA_DIR, 'sample_submission.csv'))\n",
    "pred['item_cnt_month'] = pred_test\n",
    "pred['item_cnt_month'] = pred['item_cnt_month'].clip(lower=0, upper=20)\n",
    "pred.to_csv(os.path.join(OUTPUT_DIR, training_name+'.csv'), index=False)"
   ]
  },
  {
   "cell_type": "markdown",
   "metadata": {},
   "source": [
    "Your public LB scores are: 0.943856"
   ]
  },
  {
   "cell_type": "code",
   "execution_count": null,
   "metadata": {},
   "outputs": [],
   "source": [
    "# predict for val, and test for emsembling\n",
    "pred_val = model.predict(dval)\n",
    "pd.DataFrame({training_name + 'val': pred_val}).to_hdf(os.path.join(OUTPUT_DIR, training_name+'.h5'), key='val', mode='a')\n",
    "pd.DataFrame({training_name + 'test': pred_test}).to_hdf(os.path.join(OUTPUT_DIR, training_name+'.h5'), key='test', mode='a')"
   ]
  },
  {
   "cell_type": "code",
   "execution_count": null,
   "metadata": {},
   "outputs": [],
   "source": [
    "model.save_model(os.path.join(OUTPUT_DIR, 'rf_model.mdl'))"
   ]
  },
  {
   "cell_type": "code",
   "execution_count": null,
   "metadata": {},
   "outputs": [],
   "source": []
  }
 ],
 "metadata": {
  "kernelspec": {
   "display_name": "Python 3",
   "language": "python",
   "name": "python3"
  },
  "language_info": {
   "codemirror_mode": {
    "name": "ipython",
    "version": 3
   },
   "file_extension": ".py",
   "mimetype": "text/x-python",
   "name": "python",
   "nbconvert_exporter": "python",
   "pygments_lexer": "ipython3",
   "version": "3.7.6"
  }
 },
 "nbformat": 4,
 "nbformat_minor": 4
}
